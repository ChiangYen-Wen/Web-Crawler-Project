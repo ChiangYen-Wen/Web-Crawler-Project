{
 "cells": [
  {
   "cell_type": "markdown",
   "metadata": {},
   "source": [
    "### 用爬蟲抓取已發行股數資料"
   ]
  },
  {
   "cell_type": "code",
   "execution_count": null,
   "metadata": {},
   "outputs": [],
   "source": [
    "import requests\n",
    "from bs4 import BeautifulSoup\n",
    "import pandas as pd\n",
    "import time\n",
    "import random"
   ]
  },
  {
   "cell_type": "markdown",
   "metadata": {},
   "source": [
    "### 建立抓取資料函數"
   ]
  },
  {
   "cell_type": "markdown",
   "metadata": {},
   "source": [
    "> 這邊會需要注意兩個地方\n",
    "\n",
    ">> 1.用requests搜尋網址，BeautifulSoup找到資料所在的位置。\n",
    "\n",
    ">> 2.因為是同一個網址內的搜尋欄位(輸入ticker)，所以一定要加timesleep"
   ]
  },
  {
   "cell_type": "code",
   "execution_count": null,
   "metadata": {},
   "outputs": [],
   "source": [
    "headers = {\n",
    "        'User-Agent': 'Mozilla/5.0 (Windows NT 10.0; Win64; x64) AppleWebKit/537.36 (KHTML, like Gecko) Chrome/91.0.4472.124 Safari/537.36',\n",
    "        'Referer': 'https://mops.twse.com.tw/'\n",
    "    }\n",
    "\n",
    "proxies = {\n",
    "    'https': 'http://19999990'\n",
    "}"
   ]
  },
  {
   "cell_type": "code",
   "execution_count": null,
   "metadata": {},
   "outputs": [],
   "source": [
    "def get_data_df(url, stockNo):\n",
    "    form_data = {\n",
    "        'encodeURIComponent': 1,\n",
    "        'step': 1,\n",
    "        'firstin': 1,\n",
    "        'off': 1,\n",
    "        'queryName': 'co_id',\n",
    "        'inpuType': 'co_id',\n",
    "        'TYPEK': 'all',\n",
    "        'isnew': False,\n",
    "        'co_id': stockNo,\n",
    "        'date1': 100,\n",
    "        'date2': 110,\n",
    "        'qryType': 1\n",
    "    }\n",
    "\n",
    "    # 使用 session 保留會話\n",
    "    session = requests.Session()\n",
    "    session.headers.update(headers)\n",
    "\n",
    "    r = requests.post(url, form_data,proxies=proxies)\n",
    "    r.raise_for_status()  # 確保 HTTP 請求成功\n",
    "    soup = BeautifulSoup(r.text, 'html.parser')\n",
    "    tables = soup.find_all('table')\n",
    "    \n",
    "    ## 接下來就是從html裡面找資料\n",
    "\n",
    "    if tables:\n",
    "        table = tables[0]  # 本網頁的第一個表格\n",
    "        rows = table.find_all('tr')  # 從所有 row 裡面找資料\n",
    "    # 繼續處理資料...\n",
    "    else:\n",
    "        print(f\"未找到任何表格，請檢查網址或請求參數是否正確。\")\n",
    "        return pd.DataFrame()\n",
    "    # 用於儲存抓到的數據\n",
    "    data = []\n",
    "    \n",
    "    for row in rows:\n",
    "        th = row.find('th', class_='dColor nowrap')\n",
    "        if th and (\"已發行普通股數或TDR原股發行股數\" in th.text):\n",
    "            td = row.find('td', class_='lColor')\n",
    "            if td:\n",
    "                # 將結果存入列表中\n",
    "                data.append([stockNo, td.text.strip()])\n",
    "    \n",
    "    # 將數據轉換為 DataFrame\n",
    "    if data:\n",
    "        df = pd.DataFrame(data, columns=['證券代碼', '已發行普通股數或TDR原股發行股數'])\n",
    "    \n",
    "    # 如果跑的太頻繁，或是股票代碼有錯的話，就會顯示這一句\n",
    "    else: \n",
    "        print(f\"股票代碼 {stockNo} 未找到相關數據。\")\n",
    "        df = pd.DataFrame()\n",
    "    \n",
    "    return df"
   ]
  },
  {
   "cell_type": "markdown",
   "metadata": {},
   "source": [
    "### 用for迴圈抓取所需要的資料"
   ]
  },
  {
   "cell_type": "code",
   "execution_count": null,
   "metadata": {},
   "outputs": [],
   "source": [
    "try:\n",
    "    # 從 Excel 文件中讀取股票代碼列表\n",
    "    stock_list_df = pd.read_excel('證券代碼(上市櫃普通股).xlsx')\n",
    "    stock_list = stock_list_df['公司代號'].tolist()\n",
    "\n",
    "    # 所有股票的數據並合併為一個 DataFrame\n",
    "    all_data = pd.DataFrame()\n",
    "\n",
    "    for stock in stock_list:\n",
    "\n",
    "        try:\n",
    "            df = get_data_df(\"https://mopsov.twse.com.tw/mops/web/t05st03\", stock)\n",
    "            \n",
    "            if not df.empty:\n",
    "                print(f\"成功抓取股票代碼: {stock}\")\n",
    "                all_data = pd.concat([all_data, df], ignore_index=True)\n",
    "\n",
    "            time.sleep(random.randint(1, 5))\n",
    "        except Exception as e:\n",
    "            print(f\"抓取股票代碼 {stock} 時出現錯誤: {e}\")\n",
    "            # 繼續抓取其餘股票的數據\n",
    "\n",
    "    # 將合併後的 DataFrame 存儲到 Excel 文件中\n",
    "    if not all_data.empty:\n",
    "        all_data.to_excel('已發行普通股數或TDR原股發行股數.xlsx', index=False)\n",
    "        print(\"資料已存成 Excel 檔案: 已發行普通股數或TDR原股發行股數.xlsx\")\n",
    "    else:\n",
    "        print(\"未找到任何有效數據，Excel 檔案未創建。\")\n",
    "        \n",
    "except Exception as e:\n",
    "    # 若程式因中斷連線或其他問題停止，保存現有的資料\n",
    "    if not all_data.empty:\n",
    "        all_data.to_excel('部分已發行普通股數或TDR原股發行股數.xlsx', index=False)\n",
    "        print(f\"程式執行中止，已保存部分資料: 部分已發行普通股數或TDR原股發行股數.xlsx\\n錯誤訊息: {e}\")\n",
    "    else:\n",
    "        print(f\"程式執行中止且未找到任何有效數據。錯誤訊息: {e}\")"
   ]
  }
 ],
 "metadata": {
  "kernelspec": {
   "display_name": "base",
   "language": "python",
   "name": "python3"
  },
  "language_info": {
   "codemirror_mode": {
    "name": "ipython",
    "version": 3
   },
   "file_extension": ".py",
   "mimetype": "text/x-python",
   "name": "python",
   "nbconvert_exporter": "python",
   "pygments_lexer": "ipython3",
   "version": "3.12.4"
  }
 },
 "nbformat": 4,
 "nbformat_minor": 2
}
